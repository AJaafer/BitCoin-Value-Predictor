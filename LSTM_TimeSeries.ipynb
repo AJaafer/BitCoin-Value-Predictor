{
 "cells": [
  {
   "cell_type": "code",
   "execution_count": 10,
   "metadata": {
    "collapsed": true
   },
   "outputs": [],
   "source": [
    "import pandas as pd\n",
    "import pyspark as spark\n",
    "sc = spark.SparkContext()\n",
    "sql = spark.SQLContext(sc)"
   ]
  },
  {
   "cell_type": "code",
   "execution_count": 17,
   "metadata": {
    "collapsed": true
   },
   "outputs": [],
   "source": [
    "from pyspark.sql.types import *"
   ]
  },
  {
   "cell_type": "code",
   "execution_count": 5,
   "metadata": {},
   "outputs": [],
   "source": [
    "df = pd.read_csv('/Users/rohitsuvarna/Downloads/finalOutTwo.csv',header=None)"
   ]
  },
  {
   "cell_type": "code",
   "execution_count": 6,
   "metadata": {},
   "outputs": [
    {
     "data": {
      "text/html": [
       "<div>\n",
       "<style>\n",
       "    .dataframe thead tr:only-child th {\n",
       "        text-align: right;\n",
       "    }\n",
       "\n",
       "    .dataframe thead th {\n",
       "        text-align: left;\n",
       "    }\n",
       "\n",
       "    .dataframe tbody tr th {\n",
       "        vertical-align: top;\n",
       "    }\n",
       "</style>\n",
       "<table border=\"1\" class=\"dataframe\">\n",
       "  <thead>\n",
       "    <tr style=\"text-align: right;\">\n",
       "      <th></th>\n",
       "      <th>0</th>\n",
       "      <th>1</th>\n",
       "      <th>2</th>\n",
       "    </tr>\n",
       "  </thead>\n",
       "  <tbody>\n",
       "    <tr>\n",
       "      <th>0</th>\n",
       "      <td>2017-10-31T05:00:00.000-04:00</td>\n",
       "      <td>0.092263</td>\n",
       "      <td>6158.76</td>\n",
       "    </tr>\n",
       "    <tr>\n",
       "      <th>1</th>\n",
       "      <td>2017-10-31T06:00:00.000-04:00</td>\n",
       "      <td>0.103770</td>\n",
       "      <td>6105.90</td>\n",
       "    </tr>\n",
       "    <tr>\n",
       "      <th>2</th>\n",
       "      <td>2017-10-31T07:00:00.000-04:00</td>\n",
       "      <td>0.111691</td>\n",
       "      <td>6094.36</td>\n",
       "    </tr>\n",
       "    <tr>\n",
       "      <th>3</th>\n",
       "      <td>2017-10-31T08:00:00.000-04:00</td>\n",
       "      <td>0.082134</td>\n",
       "      <td>6125.13</td>\n",
       "    </tr>\n",
       "    <tr>\n",
       "      <th>4</th>\n",
       "      <td>2017-10-31T09:00:00.000-04:00</td>\n",
       "      <td>0.089370</td>\n",
       "      <td>6165.00</td>\n",
       "    </tr>\n",
       "  </tbody>\n",
       "</table>\n",
       "</div>"
      ],
      "text/plain": [
       "                               0         1        2\n",
       "0  2017-10-31T05:00:00.000-04:00  0.092263  6158.76\n",
       "1  2017-10-31T06:00:00.000-04:00  0.103770  6105.90\n",
       "2  2017-10-31T07:00:00.000-04:00  0.111691  6094.36\n",
       "3  2017-10-31T08:00:00.000-04:00  0.082134  6125.13\n",
       "4  2017-10-31T09:00:00.000-04:00  0.089370  6165.00"
      ]
     },
     "execution_count": 6,
     "metadata": {},
     "output_type": "execute_result"
    }
   ],
   "source": [
    "df.head()"
   ]
  },
  {
   "cell_type": "code",
   "execution_count": 7,
   "metadata": {
    "collapsed": true
   },
   "outputs": [],
   "source": [
    "df.columns = ['DateTime','Sentiment_score','Price']"
   ]
  },
  {
   "cell_type": "code",
   "execution_count": 11,
   "metadata": {},
   "outputs": [
    {
     "data": {
      "text/plain": [
       "(211, 3)"
      ]
     },
     "execution_count": 11,
     "metadata": {},
     "output_type": "execute_result"
    }
   ],
   "source": [
    "df.shape"
   ]
  },
  {
   "cell_type": "code",
   "execution_count": 12,
   "metadata": {
    "collapsed": true
   },
   "outputs": [],
   "source": [
    "spark_df = sql.createDataFrame(df)"
   ]
  },
  {
   "cell_type": "code",
   "execution_count": 14,
   "metadata": {},
   "outputs": [
    {
     "name": "stdout",
     "output_type": "stream",
     "text": [
      "+--------------------+-------------------+-------+\n",
      "|            DateTime|    Sentiment_score|  Price|\n",
      "+--------------------+-------------------+-------+\n",
      "|2017-10-31T05:00:...|0.09226261767339004|6158.76|\n",
      "|2017-10-31T06:00:...|0.10376996608248826| 6105.9|\n",
      "|2017-10-31T07:00:...|0.11169094251431187|6094.36|\n",
      "|2017-10-31T08:00:...|0.08213433168664136|6125.13|\n",
      "|2017-10-31T09:00:...|0.08937042968493204| 6165.0|\n",
      "|2017-10-31T10:00:...| 0.1026717642680184|6170.77|\n",
      "|2017-10-31T11:00:...|0.12814641170317434|6233.74|\n",
      "|2017-10-31T12:00:...|0.10549754665746006|6201.03|\n",
      "|2017-10-31T13:00:...|  0.138457897343971|6332.34|\n",
      "|2017-10-31T14:00:...|0.11779438208175155|6363.13|\n",
      "|2017-10-31T15:00:...|0.09131997304766154|6365.16|\n",
      "|2017-10-31T16:00:...|0.09301943334583278|6364.78|\n",
      "|2017-10-31T17:00:...|0.09206832917391784|6361.79|\n",
      "|2017-10-31T18:00:...|0.10691324426615843|6335.64|\n",
      "|2017-10-31T19:00:...|0.12217075088870975|6341.15|\n",
      "|2017-10-31T20:00:...|0.12817142761147934|6370.08|\n",
      "|2017-10-31T21:00:...|0.09238581351736848|6393.26|\n",
      "|2017-10-31T22:00:...|0.10682700448924512|6383.94|\n",
      "|2017-10-31T23:00:...|0.10207913246967247|6448.36|\n",
      "|2017-11-01T00:00:...| 0.1003165565658219|6376.49|\n",
      "+--------------------+-------------------+-------+\n",
      "only showing top 20 rows\n",
      "\n"
     ]
    }
   ],
   "source": [
    "spark_df.show(20)"
   ]
  },
  {
   "cell_type": "code",
   "execution_count": 15,
   "metadata": {},
   "outputs": [
    {
     "name": "stdout",
     "output_type": "stream",
     "text": [
      "root\n",
      " |-- DateTime: string (nullable = true)\n",
      " |-- Sentiment_score: double (nullable = true)\n",
      " |-- Price: double (nullable = true)\n",
      "\n"
     ]
    }
   ],
   "source": [
    "spark_df.printSchema()"
   ]
  },
  {
   "cell_type": "code",
   "execution_count": 18,
   "metadata": {},
   "outputs": [],
   "source": [
    "CleanDF = spark_df.withColumn(\"DateTime_casted\",spark_df['DateTime'].cast(TimestampType()))\n",
    "\n"
   ]
  },
  {
   "cell_type": "code",
   "execution_count": 20,
   "metadata": {},
   "outputs": [
    {
     "name": "stdout",
     "output_type": "stream",
     "text": [
      "root\n",
      " |-- DateTime: string (nullable = true)\n",
      " |-- Sentiment_score: double (nullable = true)\n",
      " |-- Price: double (nullable = true)\n",
      " |-- DateTime_casted: timestamp (nullable = true)\n",
      "\n"
     ]
    }
   ],
   "source": [
    "CleanDF.printSchema()"
   ]
  },
  {
   "cell_type": "code",
   "execution_count": 21,
   "metadata": {
    "collapsed": true
   },
   "outputs": [],
   "source": [
    "FinalDf = CleanDF.selectExpr(\"DateTime_casted as Date_Time\", \"Sentiment_score\",'Price')\n",
    "\n"
   ]
  },
  {
   "cell_type": "code",
   "execution_count": 22,
   "metadata": {},
   "outputs": [
    {
     "name": "stdout",
     "output_type": "stream",
     "text": [
      "+-------------------+-------------------+-------+\n",
      "|          Date_Time|    Sentiment_score|  Price|\n",
      "+-------------------+-------------------+-------+\n",
      "|2017-10-31 05:00:00|0.09226261767339004|6158.76|\n",
      "|2017-10-31 06:00:00|0.10376996608248826| 6105.9|\n",
      "|2017-10-31 07:00:00|0.11169094251431187|6094.36|\n",
      "|2017-10-31 08:00:00|0.08213433168664136|6125.13|\n",
      "|2017-10-31 09:00:00|0.08937042968493204| 6165.0|\n",
      "|2017-10-31 10:00:00| 0.1026717642680184|6170.77|\n",
      "|2017-10-31 11:00:00|0.12814641170317434|6233.74|\n",
      "|2017-10-31 12:00:00|0.10549754665746006|6201.03|\n",
      "|2017-10-31 13:00:00|  0.138457897343971|6332.34|\n",
      "|2017-10-31 14:00:00|0.11779438208175155|6363.13|\n",
      "|2017-10-31 15:00:00|0.09131997304766154|6365.16|\n",
      "|2017-10-31 16:00:00|0.09301943334583278|6364.78|\n",
      "|2017-10-31 17:00:00|0.09206832917391784|6361.79|\n",
      "|2017-10-31 18:00:00|0.10691324426615843|6335.64|\n",
      "|2017-10-31 19:00:00|0.12217075088870975|6341.15|\n",
      "|2017-10-31 20:00:00|0.12817142761147934|6370.08|\n",
      "|2017-10-31 21:00:00|0.09238581351736848|6393.26|\n",
      "|2017-10-31 22:00:00|0.10682700448924512|6383.94|\n",
      "|2017-10-31 23:00:00|0.10207913246967247|6448.36|\n",
      "|2017-11-01 00:00:00| 0.1003165565658219|6376.49|\n",
      "+-------------------+-------------------+-------+\n",
      "only showing top 20 rows\n",
      "\n"
     ]
    }
   ],
   "source": [
    "FinalDf.show()"
   ]
  },
  {
   "cell_type": "code",
   "execution_count": null,
   "metadata": {
    "collapsed": true
   },
   "outputs": [],
   "source": []
  }
 ],
 "metadata": {
  "kernelspec": {
   "display_name": "Python 3",
   "language": "python",
   "name": "python3"
  },
  "language_info": {
   "codemirror_mode": {
    "name": "ipython",
    "version": 3
   },
   "file_extension": ".py",
   "mimetype": "text/x-python",
   "name": "python",
   "nbconvert_exporter": "python",
   "pygments_lexer": "ipython3",
   "version": "3.6.1"
  }
 },
 "nbformat": 4,
 "nbformat_minor": 2
}
