{
 "cells": [
  {
   "cell_type": "code",
   "execution_count": 1,
   "metadata": {},
   "outputs": [],
   "source": [
    "import pyspark as spark\n",
    "sc = spark.SparkContext()"
   ]
  },
  {
   "cell_type": "code",
   "execution_count": 14,
   "metadata": {},
   "outputs": [],
   "source": [
    "sql = spark.SQLContext(sc)\n",
    "FullDataTw = (sql.read\n",
    "            .format(\"com.databricks.spark.csv\")\n",
    "            .option(\"header\", \"false\")\n",
    "            .load('/Users/harishpuvvada/Desktop/PBDA/IPynb Spark/tweetsfinal.csv'))  #Loading Twitter dataset\n",
    "FullDataBtc = (sql.read\n",
    "            .format(\"com.databricks.spark.csv\")\n",
    "            .option(\"header\", \"True\")\n",
    "            .load('/Users/harishpuvvada/Desktop/PBDA/IPynb Spark/BitCoinPrice.csv'))  #Loading BitCoin Price dataset"
   ]
  },
  {
   "cell_type": "code",
   "execution_count": 11,
   "metadata": {},
   "outputs": [
    {
     "name": "stdout",
     "output_type": "stream",
     "text": [
      "859481\n",
      "216\n"
     ]
    }
   ],
   "source": [
    "FullDataTw = FullDataTw.dropna() #getting rid of full empty rows\n",
    "print(FullDataTw.count())\n",
    "print(FullDataBtc.count())"
   ]
  },
  {
   "cell_type": "code",
   "execution_count": 5,
   "metadata": {},
   "outputs": [],
   "source": [
    "FullDataTw = FullDataTw.withColumnRenamed('_c0', 'DateTime') #setting column names of Twitter dataset\n",
    "FullDataTw = FullDataTw.withColumnRenamed('_c1', 'Tweet')"
   ]
  },
  {
   "cell_type": "code",
   "execution_count": 6,
   "metadata": {},
   "outputs": [
    {
     "data": {
      "text/plain": [
       "100"
      ]
     },
     "execution_count": 6,
     "metadata": {},
     "output_type": "execute_result"
    }
   ],
   "source": [
    "Tw_samp = FullDataTw.limit(100)\n",
    "df_samp.count()"
   ]
  },
  {
   "cell_type": "code",
   "execution_count": null,
   "metadata": {
    "collapsed": true
   },
   "outputs": [],
   "source": []
  },
  {
   "cell_type": "code",
   "execution_count": 12,
   "metadata": {},
   "outputs": [
    {
     "name": "stdout",
     "output_type": "stream",
     "text": [
      "+--------------+-----------+\n",
      "|          Date|Close Price|\n",
      "+--------------+-----------+\n",
      "| 10/31/17 0:00|    6142.46|\n",
      "| 10/31/17 1:00|    6139.47|\n",
      "| 10/31/17 2:00|     6128.2|\n",
      "| 10/31/17 3:00|    6130.72|\n",
      "| 10/31/17 4:00|    6143.92|\n",
      "| 10/31/17 5:00|    6158.76|\n",
      "| 10/31/17 6:00|     6105.9|\n",
      "| 10/31/17 7:00|    6094.36|\n",
      "| 10/31/17 8:00|    6125.13|\n",
      "| 10/31/17 9:00|       6165|\n",
      "|10/31/17 10:00|    6170.77|\n",
      "|10/31/17 11:00|    6233.74|\n",
      "|10/31/17 12:00|    6201.03|\n",
      "|10/31/17 13:00|    6332.34|\n",
      "|10/31/17 14:00|    6363.13|\n",
      "|10/31/17 15:00|    6365.16|\n",
      "|10/31/17 16:00|    6364.78|\n",
      "|10/31/17 17:00|    6361.79|\n",
      "|10/31/17 18:00|    6335.64|\n",
      "|10/31/17 19:00|    6341.15|\n",
      "+--------------+-----------+\n",
      "only showing top 20 rows\n",
      "\n"
     ]
    }
   ],
   "source": [
    "FullDataBtc.show()"
   ]
  },
  {
   "cell_type": "code",
   "execution_count": null,
   "metadata": {
    "collapsed": true
   },
   "outputs": [],
   "source": []
  },
  {
   "cell_type": "code",
   "execution_count": 15,
   "metadata": {},
   "outputs": [],
   "source": [
    "# dates_df.registerTempTable(\"dates\")\n",
    "# events_df.registerTempTable(\"events\")\n",
    "# results = sqlContext.sql(\"SELECT * FROM dates INNER JOIN events ON dates.lower_timestamp < events.time and  events.time < dates.upper_timestamp\")\n",
    "# results.explain()"
   ]
  },
  {
   "cell_type": "code",
   "execution_count": null,
   "metadata": {
    "collapsed": true
   },
   "outputs": [],
   "source": []
  }
 ],
 "metadata": {
  "kernelspec": {
   "display_name": "Python 3",
   "language": "python",
   "name": "python3"
  },
  "language_info": {
   "codemirror_mode": {
    "name": "ipython",
    "version": 3
   },
   "file_extension": ".py",
   "mimetype": "text/x-python",
   "name": "python",
   "nbconvert_exporter": "python",
   "pygments_lexer": "ipython3",
   "version": "3.6.1"
  }
 },
 "nbformat": 4,
 "nbformat_minor": 2
}
