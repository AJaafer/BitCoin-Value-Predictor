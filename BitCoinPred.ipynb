{
 "cells": [
  {
   "cell_type": "code",
   "execution_count": 1,
   "metadata": {},
   "outputs": [],
   "source": [
    "import pyspark as spark\n",
    "import pandas as pd\n",
    "import warnings\n",
    "warnings.filterwarnings('ignore')\n",
    "from pyspark.sql.types import *\n",
    "from pyspark.sql import SQLContext\n",
    "from pyspark.sql.functions import col,udf,monotonically_increasing_id,unix_timestamp,round,avg\n",
    "import re\n",
    "sc = spark.SparkContext()\n",
    "sql = spark.SQLContext(sc)"
   ]
  },
  {
   "cell_type": "code",
   "execution_count": 2,
   "metadata": {},
   "outputs": [
    {
     "name": "stderr",
     "output_type": "stream",
     "text": [
      "Skipping line 845142: unexpected end of data\n"
     ]
    }
   ],
   "source": [
    "df1=pd.read_csv('/Users/harishpuvvada/Desktop/PBDA/IPynb Spark/tweetsfinal.csv',error_bad_lines=False,engine = 'python',header = None) \n",
    "df2=pd.read_csv('/Users/harishpuvvada/Desktop/PBDA/IPynb Spark/BitCoinPrice.csv',error_bad_lines=False,engine = 'python',header = None) \n",
    "FullDataTw=sql.createDataFrame(df1)\n",
    "FullDataBtc=sql.createDataFrame(df2) #creating pandas df and then changing it to pyspark df"
   ]
  },
  {
   "cell_type": "code",
   "execution_count": 3,
   "metadata": {},
   "outputs": [
    {
     "name": "stdout",
     "output_type": "stream",
     "text": [
      "845141\n",
      "217\n"
     ]
    }
   ],
   "source": [
    "FullDataTw = FullDataTw.dropna() #getting rid of full empty rows\n",
    "print(FullDataTw.count())\n",
    "print(FullDataBtc.count())"
   ]
  },
  {
   "cell_type": "code",
   "execution_count": 4,
   "metadata": {
    "collapsed": true
   },
   "outputs": [],
   "source": [
    "FullDataTw.select(monotonically_increasing_id().alias(\"rowId\"),\"*\")\n",
    "FullDataTw = FullDataTw.withColumnRenamed('0', 'DateTime') #setting column names of Twitter dataset\n",
    "FullDataTw = FullDataTw.withColumnRenamed('1', 'Tweet')\n",
    "FullDataBtc = FullDataBtc.withColumnRenamed('0', 'DateTime') #setting column names of Bitcoin price dataset\n",
    "FullDataBtc = FullDataBtc.withColumnRenamed('1', 'Price')\n",
    "FullDataBtc = FullDataBtc.filter(FullDataBtc.DateTime != 'Date') #to get rid of first row with the header"
   ]
  },
  {
   "cell_type": "code",
   "execution_count": 5,
   "metadata": {
    "collapsed": true
   },
   "outputs": [],
   "source": [
    "Tw_samp = FullDataTw #taking sample of 50 rows and working on it"
   ]
  },
  {
   "cell_type": "code",
   "execution_count": 6,
   "metadata": {},
   "outputs": [
    {
     "name": "stdout",
     "output_type": "stream",
     "text": [
      "+--------------------+--------------------+--------------------+\n",
      "|            DateTime|               Tweet|       CleanedTweets|\n",
      "+--------------------+--------------------+--------------------+\n",
      "|Thu Nov 09 17:43:...|RT @Forbes: The F...|The Failure of Se...|\n",
      "|Thu Nov 09 17:43:...|RT @mindstatex: L...|Lots of love from...|\n",
      "|Thu Nov 09 17:43:...|RT @FernandoHuama...|Warning Built in ...|\n",
      "|Thu Nov 09 17:43:...|RT @LevelNetwork:...|Join our telegram...|\n",
      "|Thu Nov 09 17:43:...|RT @realsheepwolf...|DIGAF FLOAT 16M T...|\n",
      "+--------------------+--------------------+--------------------+\n",
      "only showing top 5 rows\n",
      "\n"
     ]
    }
   ],
   "source": [
    "import preprocessor as p #cleaning each tweet using tweet-preprocessor like removing hashtags,urls,emojis....\n",
    "def function_udf(input_str):\n",
    "    input_str = re.sub(r'RT', '', input_str)\n",
    "    p.set_options(p.OPT.URL, p.OPT.EMOJI,p.OPT.MENTION)\n",
    "    input_str = p.clean(input_str)\n",
    "    return ' '.join(re.sub(\"(@[A-Za-z0-9]+)|([^0-9A-Za-z \\t])|(\\w+:\\/\\/\\S+)\", \" \", input_str).split())\n",
    "func_udf = udf(function_udf, StringType())\n",
    "CleanDF = Tw_samp.withColumn('CleanedTweets', func_udf(Tw_samp['Tweet']))\n",
    "CleanDF.show(5)"
   ]
  },
  {
   "cell_type": "code",
   "execution_count": 7,
   "metadata": {},
   "outputs": [
    {
     "name": "stdout",
     "output_type": "stream",
     "text": [
      "+--------------------+--------------------+--------------------+---------------+\n",
      "|            DateTime|               Tweet|       CleanedTweets|Sentiment_score|\n",
      "+--------------------+--------------------+--------------------+---------------+\n",
      "|Thu Nov 09 17:43:...|RT @Forbes: The F...|The Failure of Se...|    -0.18888889|\n",
      "|Thu Nov 09 17:43:...|RT @mindstatex: L...|Lots of love from...|     0.25833333|\n",
      "|Thu Nov 09 17:43:...|RT @FernandoHuama...|Warning Built in ...|            0.0|\n",
      "|Thu Nov 09 17:43:...|RT @LevelNetwork:...|Join our telegram...|            0.0|\n",
      "|Thu Nov 09 17:43:...|RT @realsheepwolf...|DIGAF FLOAT 16M T...|          -0.05|\n",
      "+--------------------+--------------------+--------------------+---------------+\n",
      "only showing top 5 rows\n",
      "\n"
     ]
    }
   ],
   "source": [
    "from textblob import TextBlob  #passing cleaned tweets and getting a sentiment score for each tweet\n",
    "def senti_score_udf(input_str):\n",
    "    analysis = TextBlob(input_str)\n",
    "    return analysis.sentiment.polarity\n",
    "func_udf2 = udf(senti_score_udf, FloatType())\n",
    "CleanDF = CleanDF.withColumn('Sentiment_score', func_udf2(CleanDF['CleanedTweets']))\n",
    "CleanDF.show(5)"
   ]
  },
  {
   "cell_type": "code",
   "execution_count": 8,
   "metadata": {},
   "outputs": [
    {
     "name": "stdout",
     "output_type": "stream",
     "text": [
      "+--------------------+--------------------+--------------------+---------------+-------------------+-------------------+\n",
      "|            DateTime|               Tweet|       CleanedTweets|Sentiment_score|         DateTime_c|    DateTime_casted|\n",
      "+--------------------+--------------------+--------------------+---------------+-------------------+-------------------+\n",
      "|Thu Nov 09 17:43:...|RT @Forbes: The F...|The Failure of Se...|    -0.18888889|2017-11-09 17:43:41|2017-11-09 17:43:41|\n",
      "|Thu Nov 09 17:43:...|RT @mindstatex: L...|Lots of love from...|     0.25833333|2017-11-09 17:43:40|2017-11-09 17:43:40|\n",
      "|Thu Nov 09 17:43:...|RT @FernandoHuama...|Warning Built in ...|            0.0|2017-11-09 17:43:39|2017-11-09 17:43:39|\n",
      "|Thu Nov 09 17:43:...|RT @LevelNetwork:...|Join our telegram...|            0.0|2017-11-09 17:43:39|2017-11-09 17:43:39|\n",
      "|Thu Nov 09 17:43:...|RT @realsheepwolf...|DIGAF FLOAT 16M T...|          -0.05|2017-11-09 17:43:39|2017-11-09 17:43:39|\n",
      "+--------------------+--------------------+--------------------+---------------+-------------------+-------------------+\n",
      "only showing top 5 rows\n",
      "\n"
     ]
    }
   ],
   "source": [
    "def Tw_Time_format(stri):  #manipulating and casting the strings(DateTime) of tweets dataframe to timestamps\n",
    "    dic = {'Nov':'11','Oct':'10'}\n",
    "    ans = ''\n",
    "    ans += stri[-4:]+'-'+ dic[stri[4:7]]+'-'+stri[8:19]\n",
    "    return ans\n",
    "func_udf3 = udf(Tw_Time_format,StringType())\n",
    "CleanDF = CleanDF.withColumn('DateTime_c', func_udf3(CleanDF['DateTime']))\n",
    "CleanDF = CleanDF.withColumn(\"DateTime_casted\",CleanDF['DateTime_c'].cast(TimestampType()))\n",
    "CleanDF.show(5)"
   ]
  },
  {
   "cell_type": "code",
   "execution_count": 9,
   "metadata": {},
   "outputs": [
    {
     "name": "stdout",
     "output_type": "stream",
     "text": [
      "+-------------------+--------------------+---------------+\n",
      "|          Date_Time|      Cleaned_Tweets|Sentiment_score|\n",
      "+-------------------+--------------------+---------------+\n",
      "|2017-11-09 17:43:41|The Failure of Se...|    -0.18888889|\n",
      "|2017-11-09 17:43:40|Lots of love from...|     0.25833333|\n",
      "|2017-11-09 17:43:39|Warning Built in ...|            0.0|\n",
      "|2017-11-09 17:43:39|Join our telegram...|            0.0|\n",
      "|2017-11-09 17:43:39|DIGAF FLOAT 16M T...|          -0.05|\n",
      "+-------------------+--------------------+---------------+\n",
      "only showing top 5 rows\n",
      "\n"
     ]
    }
   ],
   "source": [
    "FinalTw = CleanDF.selectExpr(\"DateTime_casted as Date_Time\", \"CleanedTweets as Cleaned_Tweets\",\"Sentiment_score\")\n",
    "FinalTw.show(5) #selecting necessary columns"
   ]
  },
  {
   "cell_type": "code",
   "execution_count": 10,
   "metadata": {},
   "outputs": [
    {
     "name": "stdout",
     "output_type": "stream",
     "text": [
      "root\n",
      " |-- Date_Time: timestamp (nullable = true)\n",
      " |-- Cleaned_Tweets: string (nullable = true)\n",
      " |-- Sentiment_score: float (nullable = true)\n",
      "\n"
     ]
    }
   ],
   "source": [
    "FinalTw.printSchema()"
   ]
  },
  {
   "cell_type": "code",
   "execution_count": 11,
   "metadata": {
    "collapsed": true
   },
   "outputs": [],
   "source": [
    "from datetime import datetime \n",
    "from dateutil import parser\n",
    "# def Btc_Time_format(input_str): #manipulating and casting the strings(DateTime) of BTC dataframe to timestamps\n",
    "#     input_str = re.sub(r'/17','', input_str)\n",
    "#     input_str = '2017-'+ input_str\n",
    "#     input_str = re.sub(r'/', '-', input_str)\n",
    "#     input_str += ':00'\n",
    "#     return input_str[:10]+\"\"+input_str[10:]\n",
    "def Btc_Time_format(input_str):\n",
    "    dt = parser.parse(input_str)\n",
    "    return dt.strftime('%Y-%m-%d %H:%M:%S')\n",
    "func_udf = udf(Btc_Time_format, StringType())\n",
    "FullDataBtc = FullDataBtc.withColumn('Cleaned_BTC_Time', func_udf(FullDataBtc['DateTime']))"
   ]
  },
  {
   "cell_type": "code",
   "execution_count": 12,
   "metadata": {},
   "outputs": [
    {
     "name": "stdout",
     "output_type": "stream",
     "text": [
      "+--------------+-------+-------------------+\n",
      "|      DateTime|  Price|   Cleaned_BTC_Time|\n",
      "+--------------+-------+-------------------+\n",
      "| 10/31/17 0:00|6142.46|2017-10-31 00:00:00|\n",
      "| 10/31/17 1:00|6139.47|2017-10-31 01:00:00|\n",
      "| 10/31/17 2:00| 6128.2|2017-10-31 02:00:00|\n",
      "| 10/31/17 3:00|6130.72|2017-10-31 03:00:00|\n",
      "| 10/31/17 4:00|6143.92|2017-10-31 04:00:00|\n",
      "| 10/31/17 5:00|6158.76|2017-10-31 05:00:00|\n",
      "| 10/31/17 6:00| 6105.9|2017-10-31 06:00:00|\n",
      "| 10/31/17 7:00|6094.36|2017-10-31 07:00:00|\n",
      "| 10/31/17 8:00|6125.13|2017-10-31 08:00:00|\n",
      "| 10/31/17 9:00|   6165|2017-10-31 09:00:00|\n",
      "|10/31/17 10:00|6170.77|2017-10-31 10:00:00|\n",
      "|10/31/17 11:00|6233.74|2017-10-31 11:00:00|\n",
      "|10/31/17 12:00|6201.03|2017-10-31 12:00:00|\n",
      "|10/31/17 13:00|6332.34|2017-10-31 13:00:00|\n",
      "|10/31/17 14:00|6363.13|2017-10-31 14:00:00|\n",
      "|10/31/17 15:00|6365.16|2017-10-31 15:00:00|\n",
      "|10/31/17 16:00|6364.78|2017-10-31 16:00:00|\n",
      "|10/31/17 17:00|6361.79|2017-10-31 17:00:00|\n",
      "|10/31/17 18:00|6335.64|2017-10-31 18:00:00|\n",
      "|10/31/17 19:00|6341.15|2017-10-31 19:00:00|\n",
      "|10/31/17 20:00|6370.08|2017-10-31 20:00:00|\n",
      "|10/31/17 21:00|6393.26|2017-10-31 21:00:00|\n",
      "|10/31/17 22:00|6383.94|2017-10-31 22:00:00|\n",
      "|10/31/17 23:00|6448.36|2017-10-31 23:00:00|\n",
      "|  11/1/17 0:00|6376.49|2017-11-01 00:00:00|\n",
      "|  11/1/17 1:00|6405.67|2017-11-01 01:00:00|\n",
      "|  11/1/17 2:00| 6419.6|2017-11-01 02:00:00|\n",
      "|  11/1/17 3:00|6426.88|2017-11-01 03:00:00|\n",
      "|  11/1/17 4:00|6365.63|2017-11-01 04:00:00|\n",
      "|  11/1/17 5:00|6399.43|2017-11-01 05:00:00|\n",
      "+--------------+-------+-------------------+\n",
      "only showing top 30 rows\n",
      "\n",
      "+-------------------+-------+\n",
      "|          Date_Time|  Price|\n",
      "+-------------------+-------+\n",
      "|2017-10-31 00:00:00|6142.46|\n",
      "|2017-10-31 01:00:00|6139.47|\n",
      "|2017-10-31 02:00:00| 6128.2|\n",
      "|2017-10-31 03:00:00|6130.72|\n",
      "|2017-10-31 04:00:00|6143.92|\n",
      "|2017-10-31 05:00:00|6158.76|\n",
      "|2017-10-31 06:00:00| 6105.9|\n",
      "|2017-10-31 07:00:00|6094.36|\n",
      "|2017-10-31 08:00:00|6125.13|\n",
      "|2017-10-31 09:00:00| 6165.0|\n",
      "|2017-10-31 10:00:00|6170.77|\n",
      "|2017-10-31 11:00:00|6233.74|\n",
      "|2017-10-31 12:00:00|6201.03|\n",
      "|2017-10-31 13:00:00|6332.34|\n",
      "|2017-10-31 14:00:00|6363.13|\n",
      "|2017-10-31 15:00:00|6365.16|\n",
      "|2017-10-31 16:00:00|6364.78|\n",
      "|2017-10-31 17:00:00|6361.79|\n",
      "|2017-10-31 18:00:00|6335.64|\n",
      "|2017-10-31 19:00:00|6341.15|\n",
      "|2017-10-31 20:00:00|6370.08|\n",
      "|2017-10-31 21:00:00|6393.26|\n",
      "|2017-10-31 22:00:00|6383.94|\n",
      "|2017-10-31 23:00:00|6448.36|\n",
      "|2017-11-01 00:00:00|6376.49|\n",
      "|2017-11-01 01:00:00|6405.67|\n",
      "|2017-11-01 02:00:00| 6419.6|\n",
      "|2017-11-01 03:00:00|6426.88|\n",
      "|2017-11-01 04:00:00|6365.63|\n",
      "|2017-11-01 05:00:00|6399.43|\n",
      "|2017-11-01 06:00:00|6400.97|\n",
      "|2017-11-01 07:00:00| 6392.6|\n",
      "|2017-11-01 08:00:00|6446.61|\n",
      "|2017-11-01 09:00:00|6541.77|\n",
      "|2017-11-01 10:00:00|6584.45|\n",
      "|2017-11-01 11:00:00| 6568.0|\n",
      "|2017-11-01 12:00:00|6509.08|\n",
      "|2017-11-01 13:00:00|6484.66|\n",
      "|2017-11-01 14:00:00|6547.65|\n",
      "|2017-11-01 15:00:00|6556.74|\n",
      "+-------------------+-------+\n",
      "only showing top 40 rows\n",
      "\n"
     ]
    }
   ],
   "source": [
    "FullDataBtc.show(30)\n",
    "CleandfBtc = FullDataBtc.withColumn(\"Cleaned_BTC_Time_New\",FullDataBtc['Cleaned_BTC_Time'].cast(TimestampType()))\n",
    "FinalBtc = CleandfBtc.selectExpr(\"Cleaned_BTC_Time_New as Date_Time\", \"Price\")\n",
    "FinalBtc = FinalBtc.withColumn(\"Price\",FinalBtc['Price'].cast(DoubleType()))\n",
    "FinalBtc.show(40)#In this cell, casting to timesstamp, changing col names and casting price type to double"
   ]
  },
  {
   "cell_type": "code",
   "execution_count": 13,
   "metadata": {},
   "outputs": [
    {
     "name": "stdout",
     "output_type": "stream",
     "text": [
      "root\n",
      " |-- Date_Time: timestamp (nullable = true)\n",
      " |-- Price: double (nullable = true)\n",
      "\n"
     ]
    }
   ],
   "source": [
    "FinalBtc.printSchema()"
   ]
  },
  {
   "cell_type": "code",
   "execution_count": 24,
   "metadata": {},
   "outputs": [
    {
     "name": "stdout",
     "output_type": "stream",
     "text": [
      "+-------------------+--------------------+---------------+\n",
      "|          Date_Time|      Cleaned_Tweets|Sentiment_score|\n",
      "+-------------------+--------------------+---------------+\n",
      "|2017-11-10 04:00:00|The Failure of Se...|    -0.18888889|\n",
      "|2017-11-10 04:00:00|Lots of love from...|     0.25833333|\n",
      "|2017-11-10 04:00:00|Warning Built in ...|            0.0|\n",
      "|2017-11-10 04:00:00|Join our telegram...|            0.0|\n",
      "|2017-11-10 04:00:00|DIGAF FLOAT 16M T...|          -0.05|\n",
      "|2017-11-10 04:00:00|My luggage likes ...|            0.0|\n",
      "|2017-11-10 04:00:00|As Bitcoin become...|           0.55|\n",
      "|2017-11-10 04:00:00|A crucial feature...|            0.1|\n",
      "|2017-11-10 04:00:00|As Bitcoin become...|           0.55|\n",
      "|2017-11-10 04:00:00|As Bitcoin become...|           0.55|\n",
      "+-------------------+--------------------+---------------+\n",
      "only showing top 10 rows\n",
      "\n"
     ]
    }
   ],
   "source": [
    "dt_truncated = ((round(unix_timestamp(col('Date_Time')) / 3600) * 3600).cast('timestamp'))\n",
    "FinalTw = FinalTw.withColumn('dt_truncated', dt_truncated)\n",
    "FinalTw = FinalTw.selectExpr(\"dt_truncated as Date_Time\",\"Cleaned_Tweets\",\"Sentiment_score\")\n",
    "UTC = ((unix_timestamp(col('Date_Time'))+ 5*60*60).cast('timestamp'))\n",
    "FinalTw = FinalTw.withColumn('UTC', UTC)\n",
    "FinalTw = FinalTw.selectExpr(\"UTC as Date_Time\",\"Cleaned_Tweets\",\"Sentiment_score\")\n",
    "FinalTw.show(10)"
   ]
  },
  {
   "cell_type": "code",
   "execution_count": 25,
   "metadata": {},
   "outputs": [
    {
     "name": "stdout",
     "output_type": "stream",
     "text": [
      "+-------------------+--------------------+\n",
      "|          Date_Time|avg(Sentiment_score)|\n",
      "+-------------------+--------------------+\n",
      "|2017-11-09 09:00:00| 0.11152166813883253|\n",
      "|2017-11-04 14:00:00| 0.09418897322089734|\n",
      "|2017-11-04 13:00:00| 0.08644410549054916|\n",
      "|2017-11-02 12:00:00| 0.08516004724829512|\n",
      "|2017-11-07 23:00:00| 0.09089289478139878|\n",
      "|2017-11-04 09:00:00| 0.10142201882228671|\n",
      "|2017-11-02 02:00:00| 0.08626593661642769|\n",
      "|2017-11-03 03:00:00| 0.07585878780433628|\n",
      "|2017-11-04 04:00:00| 0.11195447099054569|\n",
      "|2017-11-05 00:00:00| 0.09140639081231433|\n",
      "|2017-10-31 17:00:00| 0.10549754665746006|\n",
      "|2017-11-06 16:00:00| 0.09483664012900547|\n",
      "|2017-11-03 05:00:00| 0.09723179569439336|\n",
      "|2017-11-10 03:00:00|  0.2107969168370231|\n",
      "|2017-11-02 21:00:00| 0.06061797001144715|\n",
      "|2017-11-06 19:00:00| 0.10283534850525024|\n",
      "|2017-11-02 16:00:00| 0.08592191530888814|\n",
      "|2017-11-01 05:00:00|  0.1003165565658219|\n",
      "|2017-10-31 16:00:00| 0.12814641170317434|\n",
      "|2017-10-31 12:00:00| 0.11169094251431187|\n",
      "+-------------------+--------------------+\n",
      "only showing top 20 rows\n",
      "\n"
     ]
    }
   ],
   "source": [
    "FinalTw_avg = FinalTw.select(\"Date_Time\",\"Sentiment_score\").groupBy(\"Date_Time\").agg(avg(col(\"Sentiment_score\")))\n",
    "FinalTw_avg.show()"
   ]
  },
  {
   "cell_type": "code",
   "execution_count": 26,
   "metadata": {},
   "outputs": [
    {
     "name": "stdout",
     "output_type": "stream",
     "text": [
      "+-------------------+------------------------------------------+\n",
      "|          Date_Time|concat_ws( , collect_list(Cleaned_Tweets))|\n",
      "+-------------------+------------------------------------------+\n",
      "|2017-11-09 09:00:00|                      BILL GATES NOBODY...|\n",
      "|2017-11-04 14:00:00|                      One Bitcoin Trans...|\n",
      "|2017-11-04 13:00:00|                      Current price of ...|\n",
      "|2017-11-02 12:00:00|                      Don t let the eve...|\n",
      "|2017-11-07 23:00:00|                      Inside sources ar...|\n",
      "|2017-11-04 09:00:00|                      Kyle Bass Intervi...|\n",
      "|2017-11-02 02:00:00|                      BTC is going for ...|\n",
      "|2017-11-03 03:00:00|                      I think bitcoin w...|\n",
      "|2017-11-04 04:00:00|                      Comparing Bitcoin...|\n",
      "|2017-11-05 00:00:00|                      Bitcoin 125 Billi...|\n",
      "|2017-10-31 17:00:00|                      CRYPTO BRANDS Bit...|\n",
      "|2017-11-06 16:00:00|                      UBS Chief Economi...|\n",
      "|2017-11-03 05:00:00|                      why tf are bitcoi...|\n",
      "|2017-11-10 03:00:00|                      As Bitcoin become...|\n",
      "|2017-11-02 21:00:00|                      Bitcoin Exchange ...|\n",
      "|2017-11-06 19:00:00|                      Catch me today on...|\n",
      "|2017-11-02 16:00:00|                      BTC USD 720min ju...|\n",
      "|2017-11-01 05:00:00|                      Home Loan Bitcoin...|\n",
      "|2017-10-31 16:00:00|                      team members work...|\n",
      "|2017-10-31 12:00:00|                      What it feels lik...|\n",
      "+-------------------+------------------------------------------+\n",
      "only showing top 20 rows\n",
      "\n"
     ]
    }
   ],
   "source": [
    "from pyspark.sql import functions as f\n",
    "df_with_text = FinalTw.groupby(\"Date_Time\").agg(f.concat_ws(\" \", f.collect_list(FinalTw.Cleaned_Tweets)))\n",
    "df_with_text.show()"
   ]
  },
  {
   "cell_type": "code",
   "execution_count": 27,
   "metadata": {},
   "outputs": [
    {
     "data": {
      "text/plain": [
       "236"
      ]
     },
     "execution_count": 27,
     "metadata": {},
     "output_type": "execute_result"
    }
   ],
   "source": [
    "FinalTw_avg.count()"
   ]
  },
  {
   "cell_type": "code",
   "execution_count": 28,
   "metadata": {},
   "outputs": [],
   "source": [
    "# from pyspark.sql.functions import *\n",
    "# df_sort = FinalTw_avg.sort(asc(\"Date_Time\"))\n",
    "# df_sort.show()"
   ]
  },
  {
   "cell_type": "code",
   "execution_count": 33,
   "metadata": {},
   "outputs": [
    {
     "name": "stdout",
     "output_type": "stream",
     "text": [
      "+-------------------+-------------------+\n",
      "|          Date_Time|          Date_Time|\n",
      "+-------------------+-------------------+\n",
      "|2017-11-02 12:00:00|2017-11-02 12:00:00|\n",
      "|2017-11-04 13:00:00|2017-11-04 13:00:00|\n",
      "|2017-11-04 14:00:00|2017-11-04 14:00:00|\n",
      "|2017-11-02 02:00:00|2017-11-02 02:00:00|\n",
      "|2017-11-04 09:00:00|2017-11-04 09:00:00|\n",
      "|2017-11-07 23:00:00|2017-11-07 23:00:00|\n",
      "|2017-11-03 03:00:00|2017-11-03 03:00:00|\n",
      "|2017-11-04 04:00:00|2017-11-04 04:00:00|\n",
      "|2017-10-31 17:00:00|2017-10-31 17:00:00|\n",
      "|2017-11-05 00:00:00|2017-11-05 00:00:00|\n",
      "|2017-11-03 05:00:00|2017-11-03 05:00:00|\n",
      "|2017-11-06 16:00:00|2017-11-06 16:00:00|\n",
      "|2017-11-02 21:00:00|2017-11-02 21:00:00|\n",
      "|2017-11-06 19:00:00|2017-11-06 19:00:00|\n",
      "|2017-10-31 16:00:00|2017-10-31 16:00:00|\n",
      "|2017-11-01 05:00:00|2017-11-01 05:00:00|\n",
      "|2017-11-02 16:00:00|2017-11-02 16:00:00|\n",
      "|2017-10-31 12:00:00|2017-10-31 12:00:00|\n",
      "|2017-11-04 17:00:00|2017-11-04 17:00:00|\n",
      "|2017-11-04 19:00:00|2017-11-04 19:00:00|\n",
      "|2017-11-01 11:00:00|2017-11-01 11:00:00|\n",
      "|2017-11-03 11:00:00|2017-11-03 11:00:00|\n",
      "|2017-11-05 10:00:00|2017-11-05 10:00:00|\n",
      "|2017-11-06 13:00:00|2017-11-06 13:00:00|\n",
      "|2017-11-06 17:00:00|2017-11-06 17:00:00|\n",
      "|2017-11-08 16:00:00|2017-11-08 16:00:00|\n",
      "|2017-11-06 15:00:00|2017-11-06 15:00:00|\n",
      "|2017-11-07 02:00:00|2017-11-07 02:00:00|\n",
      "|2017-11-01 21:00:00|2017-11-01 21:00:00|\n",
      "|2017-11-06 07:00:00|2017-11-06 07:00:00|\n",
      "|2017-11-07 09:00:00|2017-11-07 09:00:00|\n",
      "|2017-11-06 08:00:00|2017-11-06 08:00:00|\n",
      "|2017-11-08 00:00:00|2017-11-08 00:00:00|\n",
      "|2017-11-03 16:00:00|2017-11-03 16:00:00|\n",
      "|2017-11-04 22:00:00|2017-11-04 22:00:00|\n",
      "|2017-11-06 09:00:00|2017-11-06 09:00:00|\n",
      "|2017-10-31 23:00:00|2017-10-31 23:00:00|\n",
      "|2017-11-02 09:00:00|2017-11-02 09:00:00|\n",
      "|2017-11-04 00:00:00|2017-11-04 00:00:00|\n",
      "|2017-11-01 09:00:00|2017-11-01 09:00:00|\n",
      "+-------------------+-------------------+\n",
      "only showing top 40 rows\n",
      "\n"
     ]
    }
   ],
   "source": [
    "FinalTw_avg.registerTempTable(\"avgs\")\n",
    "FinalBtc.registerTempTable(\"prices\")\n",
    "results = sql.sql(\"SELECT avgs.Date_Time,prices.Date_Time FROM avgs INNER JOIN prices ON avgs.Date_Time = prices.Date_Time\")\n",
    "results.show(40)"
   ]
  },
  {
   "cell_type": "code",
   "execution_count": 34,
   "metadata": {},
   "outputs": [
    {
     "data": {
      "text/plain": [
       "206"
      ]
     },
     "execution_count": 34,
     "metadata": {},
     "output_type": "execute_result"
    }
   ],
   "source": [
    "results.count()"
   ]
  },
  {
   "cell_type": "code",
   "execution_count": 35,
   "metadata": {},
   "outputs": [
    {
     "ename": "AnalysisException",
     "evalue": "'Duplicate column(s): \"Date_Time\" found, cannot save to file.;'",
     "output_type": "error",
     "traceback": [
      "\u001b[0;31m---------------------------------------------------------------------------\u001b[0m",
      "\u001b[0;31mPy4JJavaError\u001b[0m                             Traceback (most recent call last)",
      "\u001b[0;32m/anaconda/lib/python3.6/site-packages/pyspark/sql/utils.py\u001b[0m in \u001b[0;36mdeco\u001b[0;34m(*a, **kw)\u001b[0m\n\u001b[1;32m     62\u001b[0m         \u001b[0;32mtry\u001b[0m\u001b[0;34m:\u001b[0m\u001b[0;34m\u001b[0m\u001b[0m\n\u001b[0;32m---> 63\u001b[0;31m             \u001b[0;32mreturn\u001b[0m \u001b[0mf\u001b[0m\u001b[0;34m(\u001b[0m\u001b[0;34m*\u001b[0m\u001b[0ma\u001b[0m\u001b[0;34m,\u001b[0m \u001b[0;34m**\u001b[0m\u001b[0mkw\u001b[0m\u001b[0;34m)\u001b[0m\u001b[0;34m\u001b[0m\u001b[0m\n\u001b[0m\u001b[1;32m     64\u001b[0m         \u001b[0;32mexcept\u001b[0m \u001b[0mpy4j\u001b[0m\u001b[0;34m.\u001b[0m\u001b[0mprotocol\u001b[0m\u001b[0;34m.\u001b[0m\u001b[0mPy4JJavaError\u001b[0m \u001b[0;32mas\u001b[0m \u001b[0me\u001b[0m\u001b[0;34m:\u001b[0m\u001b[0;34m\u001b[0m\u001b[0m\n",
      "\u001b[0;32m/anaconda/lib/python3.6/site-packages/py4j/protocol.py\u001b[0m in \u001b[0;36mget_return_value\u001b[0;34m(answer, gateway_client, target_id, name)\u001b[0m\n\u001b[1;32m    319\u001b[0m                     \u001b[0;34m\"An error occurred while calling {0}{1}{2}.\\n\"\u001b[0m\u001b[0;34m.\u001b[0m\u001b[0;34m\u001b[0m\u001b[0m\n\u001b[0;32m--> 320\u001b[0;31m                     format(target_id, \".\", name), value)\n\u001b[0m\u001b[1;32m    321\u001b[0m             \u001b[0;32melse\u001b[0m\u001b[0;34m:\u001b[0m\u001b[0;34m\u001b[0m\u001b[0m\n",
      "\u001b[0;31mPy4JJavaError\u001b[0m: An error occurred while calling o658.csv.\n: org.apache.spark.sql.AnalysisException: Duplicate column(s): \"Date_Time\" found, cannot save to file.;\n\tat org.apache.spark.sql.execution.datasources.InsertIntoHadoopFsRelationCommand.run(InsertIntoHadoopFsRelationCommand.scala:67)\n\tat org.apache.spark.sql.execution.command.ExecutedCommandExec.sideEffectResult$lzycompute(commands.scala:58)\n\tat org.apache.spark.sql.execution.command.ExecutedCommandExec.sideEffectResult(commands.scala:56)\n\tat org.apache.spark.sql.execution.command.ExecutedCommandExec.doExecute(commands.scala:74)\n\tat org.apache.spark.sql.execution.SparkPlan$$anonfun$execute$1.apply(SparkPlan.scala:117)\n\tat org.apache.spark.sql.execution.SparkPlan$$anonfun$execute$1.apply(SparkPlan.scala:117)\n\tat org.apache.spark.sql.execution.SparkPlan$$anonfun$executeQuery$1.apply(SparkPlan.scala:138)\n\tat org.apache.spark.rdd.RDDOperationScope$.withScope(RDDOperationScope.scala:151)\n\tat org.apache.spark.sql.execution.SparkPlan.executeQuery(SparkPlan.scala:135)\n\tat org.apache.spark.sql.execution.SparkPlan.execute(SparkPlan.scala:116)\n\tat org.apache.spark.sql.execution.QueryExecution.toRdd$lzycompute(QueryExecution.scala:92)\n\tat org.apache.spark.sql.execution.QueryExecution.toRdd(QueryExecution.scala:92)\n\tat org.apache.spark.sql.execution.datasources.DataSource.writeInFileFormat(DataSource.scala:438)\n\tat org.apache.spark.sql.execution.datasources.DataSource.write(DataSource.scala:474)\n\tat org.apache.spark.sql.execution.datasources.SaveIntoDataSourceCommand.run(SaveIntoDataSourceCommand.scala:48)\n\tat org.apache.spark.sql.execution.command.ExecutedCommandExec.sideEffectResult$lzycompute(commands.scala:58)\n\tat org.apache.spark.sql.execution.command.ExecutedCommandExec.sideEffectResult(commands.scala:56)\n\tat org.apache.spark.sql.execution.command.ExecutedCommandExec.doExecute(commands.scala:74)\n\tat org.apache.spark.sql.execution.SparkPlan$$anonfun$execute$1.apply(SparkPlan.scala:117)\n\tat org.apache.spark.sql.execution.SparkPlan$$anonfun$execute$1.apply(SparkPlan.scala:117)\n\tat org.apache.spark.sql.execution.SparkPlan$$anonfun$executeQuery$1.apply(SparkPlan.scala:138)\n\tat org.apache.spark.rdd.RDDOperationScope$.withScope(RDDOperationScope.scala:151)\n\tat org.apache.spark.sql.execution.SparkPlan.executeQuery(SparkPlan.scala:135)\n\tat org.apache.spark.sql.execution.SparkPlan.execute(SparkPlan.scala:116)\n\tat org.apache.spark.sql.execution.QueryExecution.toRdd$lzycompute(QueryExecution.scala:92)\n\tat org.apache.spark.sql.execution.QueryExecution.toRdd(QueryExecution.scala:92)\n\tat org.apache.spark.sql.DataFrameWriter.runCommand(DataFrameWriter.scala:610)\n\tat org.apache.spark.sql.DataFrameWriter.save(DataFrameWriter.scala:233)\n\tat org.apache.spark.sql.DataFrameWriter.save(DataFrameWriter.scala:217)\n\tat org.apache.spark.sql.DataFrameWriter.csv(DataFrameWriter.scala:598)\n\tat sun.reflect.NativeMethodAccessorImpl.invoke0(Native Method)\n\tat sun.reflect.NativeMethodAccessorImpl.invoke(NativeMethodAccessorImpl.java:62)\n\tat sun.reflect.DelegatingMethodAccessorImpl.invoke(DelegatingMethodAccessorImpl.java:43)\n\tat java.lang.reflect.Method.invoke(Method.java:498)\n\tat py4j.reflection.MethodInvoker.invoke(MethodInvoker.java:244)\n\tat py4j.reflection.ReflectionEngine.invoke(ReflectionEngine.java:357)\n\tat py4j.Gateway.invoke(Gateway.java:280)\n\tat py4j.commands.AbstractCommand.invokeMethod(AbstractCommand.java:132)\n\tat py4j.commands.CallCommand.execute(CallCommand.java:79)\n\tat py4j.GatewayConnection.run(GatewayConnection.java:214)\n\tat java.lang.Thread.run(Thread.java:745)\n",
      "\nDuring handling of the above exception, another exception occurred:\n",
      "\u001b[0;31mAnalysisException\u001b[0m                         Traceback (most recent call last)",
      "\u001b[0;32m<ipython-input-35-a7c1590fb6ae>\u001b[0m in \u001b[0;36m<module>\u001b[0;34m()\u001b[0m\n\u001b[0;32m----> 1\u001b[0;31m \u001b[0mresults\u001b[0m\u001b[0;34m.\u001b[0m\u001b[0mrepartition\u001b[0m\u001b[0;34m(\u001b[0m\u001b[0;36m1\u001b[0m\u001b[0;34m)\u001b[0m\u001b[0;34m.\u001b[0m\u001b[0mwrite\u001b[0m\u001b[0;34m.\u001b[0m\u001b[0mcsv\u001b[0m\u001b[0;34m(\u001b[0m\u001b[0;34m\"Three.csv\"\u001b[0m\u001b[0;34m)\u001b[0m \u001b[0;31m#this will write df to single csv instead of writing diff csv acc to partitions\u001b[0m\u001b[0;34m\u001b[0m\u001b[0m\n\u001b[0m",
      "\u001b[0;32m/anaconda/lib/python3.6/site-packages/pyspark/sql/readwriter.py\u001b[0m in \u001b[0;36mcsv\u001b[0;34m(self, path, mode, compression, sep, quote, escape, header, nullValue, escapeQuotes, quoteAll, dateFormat, timestampFormat, ignoreLeadingWhiteSpace, ignoreTrailingWhiteSpace)\u001b[0m\n\u001b[1;32m    764\u001b[0m                        \u001b[0mignoreLeadingWhiteSpace\u001b[0m\u001b[0;34m=\u001b[0m\u001b[0mignoreLeadingWhiteSpace\u001b[0m\u001b[0;34m,\u001b[0m\u001b[0;34m\u001b[0m\u001b[0m\n\u001b[1;32m    765\u001b[0m                        ignoreTrailingWhiteSpace=ignoreTrailingWhiteSpace)\n\u001b[0;32m--> 766\u001b[0;31m         \u001b[0mself\u001b[0m\u001b[0;34m.\u001b[0m\u001b[0m_jwrite\u001b[0m\u001b[0;34m.\u001b[0m\u001b[0mcsv\u001b[0m\u001b[0;34m(\u001b[0m\u001b[0mpath\u001b[0m\u001b[0;34m)\u001b[0m\u001b[0;34m\u001b[0m\u001b[0m\n\u001b[0m\u001b[1;32m    767\u001b[0m \u001b[0;34m\u001b[0m\u001b[0m\n\u001b[1;32m    768\u001b[0m     \u001b[0;34m@\u001b[0m\u001b[0msince\u001b[0m\u001b[0;34m(\u001b[0m\u001b[0;36m1.5\u001b[0m\u001b[0;34m)\u001b[0m\u001b[0;34m\u001b[0m\u001b[0m\n",
      "\u001b[0;32m/anaconda/lib/python3.6/site-packages/py4j/java_gateway.py\u001b[0m in \u001b[0;36m__call__\u001b[0;34m(self, *args)\u001b[0m\n\u001b[1;32m   1158\u001b[0m         \u001b[0manswer\u001b[0m \u001b[0;34m=\u001b[0m \u001b[0mself\u001b[0m\u001b[0;34m.\u001b[0m\u001b[0mgateway_client\u001b[0m\u001b[0;34m.\u001b[0m\u001b[0msend_command\u001b[0m\u001b[0;34m(\u001b[0m\u001b[0mcommand\u001b[0m\u001b[0;34m)\u001b[0m\u001b[0;34m\u001b[0m\u001b[0m\n\u001b[1;32m   1159\u001b[0m         return_value = get_return_value(\n\u001b[0;32m-> 1160\u001b[0;31m             answer, self.gateway_client, self.target_id, self.name)\n\u001b[0m\u001b[1;32m   1161\u001b[0m \u001b[0;34m\u001b[0m\u001b[0m\n\u001b[1;32m   1162\u001b[0m         \u001b[0;32mfor\u001b[0m \u001b[0mtemp_arg\u001b[0m \u001b[0;32min\u001b[0m \u001b[0mtemp_args\u001b[0m\u001b[0;34m:\u001b[0m\u001b[0;34m\u001b[0m\u001b[0m\n",
      "\u001b[0;32m/anaconda/lib/python3.6/site-packages/pyspark/sql/utils.py\u001b[0m in \u001b[0;36mdeco\u001b[0;34m(*a, **kw)\u001b[0m\n\u001b[1;32m     67\u001b[0m                                              e.java_exception.getStackTrace()))\n\u001b[1;32m     68\u001b[0m             \u001b[0;32mif\u001b[0m \u001b[0ms\u001b[0m\u001b[0;34m.\u001b[0m\u001b[0mstartswith\u001b[0m\u001b[0;34m(\u001b[0m\u001b[0;34m'org.apache.spark.sql.AnalysisException: '\u001b[0m\u001b[0;34m)\u001b[0m\u001b[0;34m:\u001b[0m\u001b[0;34m\u001b[0m\u001b[0m\n\u001b[0;32m---> 69\u001b[0;31m                 \u001b[0;32mraise\u001b[0m \u001b[0mAnalysisException\u001b[0m\u001b[0;34m(\u001b[0m\u001b[0ms\u001b[0m\u001b[0;34m.\u001b[0m\u001b[0msplit\u001b[0m\u001b[0;34m(\u001b[0m\u001b[0;34m': '\u001b[0m\u001b[0;34m,\u001b[0m \u001b[0;36m1\u001b[0m\u001b[0;34m)\u001b[0m\u001b[0;34m[\u001b[0m\u001b[0;36m1\u001b[0m\u001b[0;34m]\u001b[0m\u001b[0;34m,\u001b[0m \u001b[0mstackTrace\u001b[0m\u001b[0;34m)\u001b[0m\u001b[0;34m\u001b[0m\u001b[0m\n\u001b[0m\u001b[1;32m     70\u001b[0m             \u001b[0;32mif\u001b[0m \u001b[0ms\u001b[0m\u001b[0;34m.\u001b[0m\u001b[0mstartswith\u001b[0m\u001b[0;34m(\u001b[0m\u001b[0;34m'org.apache.spark.sql.catalyst.analysis'\u001b[0m\u001b[0;34m)\u001b[0m\u001b[0;34m:\u001b[0m\u001b[0;34m\u001b[0m\u001b[0m\n\u001b[1;32m     71\u001b[0m                 \u001b[0;32mraise\u001b[0m \u001b[0mAnalysisException\u001b[0m\u001b[0;34m(\u001b[0m\u001b[0ms\u001b[0m\u001b[0;34m.\u001b[0m\u001b[0msplit\u001b[0m\u001b[0;34m(\u001b[0m\u001b[0;34m': '\u001b[0m\u001b[0;34m,\u001b[0m \u001b[0;36m1\u001b[0m\u001b[0;34m)\u001b[0m\u001b[0;34m[\u001b[0m\u001b[0;36m1\u001b[0m\u001b[0;34m]\u001b[0m\u001b[0;34m,\u001b[0m \u001b[0mstackTrace\u001b[0m\u001b[0;34m)\u001b[0m\u001b[0;34m\u001b[0m\u001b[0m\n",
      "\u001b[0;31mAnalysisException\u001b[0m: 'Duplicate column(s): \"Date_Time\" found, cannot save to file.;'"
     ]
    }
   ],
   "source": [
    "results.repartition(1).write.csv(\"Three.csv\") #this will write df to single csv instead of writing diff csv acc to partitions "
   ]
  },
  {
   "cell_type": "code",
   "execution_count": null,
   "metadata": {
    "collapsed": true
   },
   "outputs": [],
   "source": []
  }
 ],
 "metadata": {
  "kernelspec": {
   "display_name": "Python 3",
   "language": "python",
   "name": "python3"
  },
  "language_info": {
   "codemirror_mode": {
    "name": "ipython",
    "version": 3
   },
   "file_extension": ".py",
   "mimetype": "text/x-python",
   "name": "python",
   "nbconvert_exporter": "python",
   "pygments_lexer": "ipython3",
   "version": "3.6.1"
  }
 },
 "nbformat": 4,
 "nbformat_minor": 2
}
