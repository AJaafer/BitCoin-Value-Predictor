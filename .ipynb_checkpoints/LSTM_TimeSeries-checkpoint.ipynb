{
 "cells": [
  {
   "cell_type": "code",
   "execution_count": 1,
   "metadata": {},
   "outputs": [
    {
     "name": "stderr",
     "output_type": "stream",
     "text": [
      "Using TensorFlow backend.\n"
     ]
    }
   ],
   "source": [
    "import pandas as pd\n",
    "import pyspark as spark\n",
    "import matplotlib.pyplot as plt\n",
    "import numpy as np\n",
    "from sklearn.metrics import mean_squared_error\n",
    "sc = spark.SparkContext()\n",
    "sql = spark.SQLContext(sc)\n",
    "from pyspark.sql.types import *\n",
    "from sklearn.preprocessing import MinMaxScaler\n",
    "from keras.models import Sequential\n",
    "from keras.layers import Dense\n",
    "from keras.layers import LSTM\n",
    "from elephas.utils.rdd_utils import to_simple_rdd"
   ]
  },
  {
   "cell_type": "code",
   "execution_count": 2,
   "metadata": {
    "collapsed": true
   },
   "outputs": [],
   "source": [
    "df = pd.read_csv('/Users/rohitsuvarna/Downloads/finalOutTwo.csv',header=None)"
   ]
  },
  {
   "cell_type": "code",
   "execution_count": 3,
   "metadata": {
    "collapsed": true
   },
   "outputs": [],
   "source": [
    "df.columns = ['DateTime','Sentiment_score','Price']"
   ]
  },
  {
   "cell_type": "code",
   "execution_count": 4,
   "metadata": {
    "collapsed": true
   },
   "outputs": [],
   "source": [
    "spark_df = sql.createDataFrame(df)"
   ]
  },
  {
   "cell_type": "code",
   "execution_count": 5,
   "metadata": {},
   "outputs": [
    {
     "name": "stdout",
     "output_type": "stream",
     "text": [
      "+--------------------+-------------------+-------+\n",
      "|            DateTime|    Sentiment_score|  Price|\n",
      "+--------------------+-------------------+-------+\n",
      "|2017-10-31T05:00:...|0.09226261767339004|6158.76|\n",
      "|2017-10-31T06:00:...|0.10376996608248826| 6105.9|\n",
      "|2017-10-31T07:00:...|0.11169094251431187|6094.36|\n",
      "|2017-10-31T08:00:...|0.08213433168664136|6125.13|\n",
      "|2017-10-31T09:00:...|0.08937042968493204| 6165.0|\n",
      "|2017-10-31T10:00:...| 0.1026717642680184|6170.77|\n",
      "|2017-10-31T11:00:...|0.12814641170317434|6233.74|\n",
      "|2017-10-31T12:00:...|0.10549754665746006|6201.03|\n",
      "|2017-10-31T13:00:...|  0.138457897343971|6332.34|\n",
      "|2017-10-31T14:00:...|0.11779438208175155|6363.13|\n",
      "|2017-10-31T15:00:...|0.09131997304766154|6365.16|\n",
      "|2017-10-31T16:00:...|0.09301943334583278|6364.78|\n",
      "|2017-10-31T17:00:...|0.09206832917391784|6361.79|\n",
      "|2017-10-31T18:00:...|0.10691324426615843|6335.64|\n",
      "|2017-10-31T19:00:...|0.12217075088870975|6341.15|\n",
      "|2017-10-31T20:00:...|0.12817142761147934|6370.08|\n",
      "|2017-10-31T21:00:...|0.09238581351736848|6393.26|\n",
      "|2017-10-31T22:00:...|0.10682700448924512|6383.94|\n",
      "|2017-10-31T23:00:...|0.10207913246967247|6448.36|\n",
      "|2017-11-01T00:00:...| 0.1003165565658219|6376.49|\n",
      "+--------------------+-------------------+-------+\n",
      "only showing top 20 rows\n",
      "\n"
     ]
    }
   ],
   "source": [
    "spark_df.show(20)"
   ]
  },
  {
   "cell_type": "code",
   "execution_count": 6,
   "metadata": {
    "collapsed": true
   },
   "outputs": [],
   "source": [
    "CleanDF = spark_df.withColumn(\"DateTime_casted\",spark_df['DateTime'].cast(TimestampType()))\n",
    "\n"
   ]
  },
  {
   "cell_type": "code",
   "execution_count": 7,
   "metadata": {},
   "outputs": [
    {
     "name": "stdout",
     "output_type": "stream",
     "text": [
      "+-------------------+-------------------+-------+\n",
      "|          Date_Time|    Sentiment_score|  Price|\n",
      "+-------------------+-------------------+-------+\n",
      "|2017-10-31 05:00:00|0.09226261767339004|6158.76|\n",
      "|2017-10-31 06:00:00|0.10376996608248826| 6105.9|\n",
      "|2017-10-31 07:00:00|0.11169094251431187|6094.36|\n",
      "|2017-10-31 08:00:00|0.08213433168664136|6125.13|\n",
      "|2017-10-31 09:00:00|0.08937042968493204| 6165.0|\n",
      "|2017-10-31 10:00:00| 0.1026717642680184|6170.77|\n",
      "|2017-10-31 11:00:00|0.12814641170317434|6233.74|\n",
      "|2017-10-31 12:00:00|0.10549754665746006|6201.03|\n",
      "|2017-10-31 13:00:00|  0.138457897343971|6332.34|\n",
      "|2017-10-31 14:00:00|0.11779438208175155|6363.13|\n",
      "|2017-10-31 15:00:00|0.09131997304766154|6365.16|\n",
      "|2017-10-31 16:00:00|0.09301943334583278|6364.78|\n",
      "|2017-10-31 17:00:00|0.09206832917391784|6361.79|\n",
      "|2017-10-31 18:00:00|0.10691324426615843|6335.64|\n",
      "|2017-10-31 19:00:00|0.12217075088870975|6341.15|\n",
      "|2017-10-31 20:00:00|0.12817142761147934|6370.08|\n",
      "|2017-10-31 21:00:00|0.09238581351736848|6393.26|\n",
      "|2017-10-31 22:00:00|0.10682700448924512|6383.94|\n",
      "|2017-10-31 23:00:00|0.10207913246967247|6448.36|\n",
      "|2017-11-01 00:00:00| 0.1003165565658219|6376.49|\n",
      "+-------------------+-------------------+-------+\n",
      "only showing top 20 rows\n",
      "\n"
     ]
    }
   ],
   "source": [
    "FinalDf = CleanDF.selectExpr(\"DateTime_casted as Date_Time\", \"Sentiment_score\",'Price')\n",
    "\n",
    "FinalDf.show()"
   ]
  },
  {
   "cell_type": "markdown",
   "metadata": {},
   "source": [
    "Plotting the input variables"
   ]
  },
  {
   "cell_type": "code",
   "execution_count": 8,
   "metadata": {},
   "outputs": [
    {
     "data": {
      "image/png": "[encoded data removed]",
      "text/plain": [
       "<matplotlib.figure.Figure at 0x124a85f98>"
      ]
     },
     "metadata": {},
     "output_type": "display_data"
    }
   ],
   "source": [
    "values = df.values\n",
    "# specify columns to plot\n",
    "groups = [ 1, 2]\n",
    "i = 1\n",
    "# plot each column\n",
    "plt.figure()\n",
    "for group in groups:\n",
    "\tplt.subplot(len(groups), 1, i)\n",
    "\tplt.plot(values[:, group])\n",
    "\tplt.title(df.columns[group], y=0.5, loc='right')\n",
    "\ti += 1\n",
    "plt.show()"
   ]
  },
  {
   "cell_type": "code",
   "execution_count": 9,
   "metadata": {
    "collapsed": true
   },
   "outputs": [],
   "source": [
    "df.set_index('DateTime',inplace=True)"
   ]
  },
  {
   "cell_type": "code",
   "execution_count": 10,
   "metadata": {
    "collapsed": true
   },
   "outputs": [],
   "source": [
    "cols = df.columns.tolist()\n",
    "cols = cols[-1:] + cols[:-1]\n",
    "df = df[cols]\n",
    "\n"
   ]
  },
  {
   "cell_type": "code",
   "execution_count": 11,
   "metadata": {
    "collapsed": true
   },
   "outputs": [],
   "source": [
    "scaler = MinMaxScaler(feature_range=(0, 1))\n",
    "scaled = scaler.fit_transform(df.values)"
   ]
  },
  {
   "cell_type": "code",
   "execution_count": 12,
   "metadata": {
    "collapsed": true
   },
   "outputs": [],
   "source": [
    "def series_to_supervised(data, n_in=1, n_out=1, dropnan=True):\n",
    "\tn_vars = 1 if type(data) is list else data.shape[1]\n",
    "\tdf = pd.DataFrame(data)\n",
    "\tcols, names = list(), list()\n",
    "\t# input sequence (t-n, ... t-1)\n",
    "\tfor i in range(n_in, 0, -1):\n",
    "\t\tcols.append(df.shift(i))\n",
    "\t\tnames += [('var%d(t-%d)' % (j+1, i)) for j in range(n_vars)]\n",
    "\t# forecast sequence (t, t+1, ... t+n)\n",
    "\tfor i in range(0, n_out):\n",
    "\t\tcols.append(df.shift(-i))\n",
    "\t\tif i == 0:\n",
    "\t\t\tnames += [('var%d(t)' % (j+1)) for j in range(n_vars)]\n",
    "\t\telse:\n",
    "\t\t\tnames += [('var%d(t+%d)' % (j+1, i)) for j in range(n_vars)]\n",
    "\t# put it all together\n",
    "\tagg = pd.concat(cols, axis=1)\n",
    "\tagg.columns = names\n",
    "\t# drop rows with NaN values\n",
    "\tif dropnan:\n",
    "\t\tagg.dropna(inplace=True)\n",
    "\treturn agg"
   ]
  },
  {
   "cell_type": "code",
   "execution_count": 13,
   "metadata": {
    "collapsed": true
   },
   "outputs": [],
   "source": [
    "reframed = series_to_supervised(scaled, 1, 1)"
   ]
  },
  {
   "cell_type": "code",
   "execution_count": 14,
   "metadata": {
    "collapsed": true
   },
   "outputs": [],
   "source": [
    "reframed = reframed.drop(reframed.columns[-1], axis=1)\n"
   ]
  },
  {
   "cell_type": "code",
   "execution_count": 15,
   "metadata": {
    "collapsed": true
   },
   "outputs": [],
   "source": [
    "values = reframed.values\n",
    "n_train_hours = 170\n",
    "train = values[:n_train_hours, :]\n",
    "test = values[n_train_hours:, :]"
   ]
  },
  {
   "cell_type": "code",
   "execution_count": 16,
   "metadata": {
    "collapsed": true
   },
   "outputs": [],
   "source": [
    "# split into input and outputs\n",
    "train_X, train_y = train[:, :-1], train[:, -1]\n",
    "test_X, test_y = test[:, :-1], test[:, -1]"
   ]
  },
  {
   "cell_type": "code",
   "execution_count": 17,
   "metadata": {},
   "outputs": [
    {
     "name": "stdout",
     "output_type": "stream",
     "text": [
      "(170, 1, 2) (170,) (40, 1, 2) (40,)\n"
     ]
    }
   ],
   "source": [
    "# reshape input to be 3D [samples, timesteps, features]\n",
    "train_X = train_X.reshape((train_X.shape[0], 1, train_X.shape[1]))\n",
    "test_X = test_X.reshape((test_X.shape[0], 1, test_X.shape[1]))\n",
    "print(train_X.shape, train_y.shape, test_X.shape, test_y.shape)"
   ]
  },
  {
   "cell_type": "code",
   "execution_count": 18,
   "metadata": {},
   "outputs": [
    {
     "name": "stdout",
     "output_type": "stream",
     "text": [
      "Train on 170 samples, validate on 40 samples\n",
      "Epoch 1/50\n",
      "1s - loss: 0.5269 - val_loss: 0.6256\n",
      "Epoch 2/50\n",
      "0s - loss: 0.4516 - val_loss: 0.5381\n",
      "Epoch 3/50\n",
      "0s - loss: 0.3651 - val_loss: 0.4306\n",
      "Epoch 4/50\n",
      "0s - loss: 0.2846 - val_loss: 0.3246\n",
      "Epoch 5/50\n",
      "0s - loss: 0.2219 - val_loss: 0.2260\n",
      "Epoch 6/50\n",
      "0s - loss: 0.1637 - val_loss: 0.1226\n",
      "Epoch 7/50\n",
      "0s - loss: 0.1273 - val_loss: 0.0720\n",
      "Epoch 8/50\n",
      "0s - loss: 0.1234 - val_loss: 0.0628\n",
      "Epoch 9/50\n",
      "0s - loss: 0.1230 - val_loss: 0.0609\n",
      "Epoch 10/50\n",
      "0s - loss: 0.1201 - val_loss: 0.0599\n",
      "Epoch 11/50\n",
      "0s - loss: 0.1169 - val_loss: 0.0586\n",
      "Epoch 12/50\n",
      "0s - loss: 0.1138 - val_loss: 0.0574\n",
      "Epoch 13/50\n",
      "0s - loss: 0.1106 - val_loss: 0.0564\n",
      "Epoch 14/50\n",
      "0s - loss: 0.1068 - val_loss: 0.0550\n",
      "Epoch 15/50\n",
      "0s - loss: 0.1038 - val_loss: 0.0536\n",
      "Epoch 16/50\n",
      "0s - loss: 0.1005 - val_loss: 0.0526\n",
      "Epoch 17/50\n",
      "0s - loss: 0.0971 - val_loss: 0.0509\n",
      "Epoch 18/50\n",
      "0s - loss: 0.0941 - val_loss: 0.0495\n",
      "Epoch 19/50\n",
      "0s - loss: 0.0903 - val_loss: 0.0481\n",
      "Epoch 20/50\n",
      "0s - loss: 0.0866 - val_loss: 0.0467\n",
      "Epoch 21/50\n",
      "0s - loss: 0.0832 - val_loss: 0.0453\n",
      "Epoch 22/50\n",
      "0s - loss: 0.0796 - val_loss: 0.0439\n",
      "Epoch 23/50\n",
      "0s - loss: 0.0759 - val_loss: 0.0427\n",
      "Epoch 24/50\n",
      "0s - loss: 0.0720 - val_loss: 0.0415\n",
      "Epoch 25/50\n",
      "0s - loss: 0.0677 - val_loss: 0.0401\n",
      "Epoch 26/50\n",
      "0s - loss: 0.0642 - val_loss: 0.0391\n",
      "Epoch 27/50\n",
      "0s - loss: 0.0600 - val_loss: 0.0388\n",
      "Epoch 28/50\n",
      "0s - loss: 0.0561 - val_loss: 0.0385\n",
      "Epoch 29/50\n",
      "0s - loss: 0.0518 - val_loss: 0.0383\n",
      "Epoch 30/50\n",
      "0s - loss: 0.0471 - val_loss: 0.0367\n",
      "Epoch 31/50\n",
      "0s - loss: 0.0421 - val_loss: 0.0356\n",
      "Epoch 32/50\n",
      "0s - loss: 0.0381 - val_loss: 0.0349\n",
      "Epoch 33/50\n",
      "0s - loss: 0.0352 - val_loss: 0.0346\n",
      "Epoch 34/50\n",
      "0s - loss: 0.0328 - val_loss: 0.0345\n",
      "Epoch 35/50\n",
      "0s - loss: 0.0315 - val_loss: 0.0344\n",
      "Epoch 36/50\n",
      "0s - loss: 0.0310 - val_loss: 0.0345\n",
      "Epoch 37/50\n",
      "0s - loss: 0.0308 - val_loss: 0.0349\n",
      "Epoch 38/50\n",
      "0s - loss: 0.0305 - val_loss: 0.0349\n",
      "Epoch 39/50\n",
      "0s - loss: 0.0305 - val_loss: 0.0346\n",
      "Epoch 40/50\n",
      "0s - loss: 0.0302 - val_loss: 0.0354\n",
      "Epoch 41/50\n",
      "0s - loss: 0.0300 - val_loss: 0.0352\n",
      "Epoch 42/50\n",
      "0s - loss: 0.0302 - val_loss: 0.0350\n",
      "Epoch 43/50\n",
      "0s - loss: 0.0302 - val_loss: 0.0347\n",
      "Epoch 44/50\n",
      "0s - loss: 0.0301 - val_loss: 0.0350\n",
      "Epoch 45/50\n",
      "0s - loss: 0.0300 - val_loss: 0.0348\n",
      "Epoch 46/50\n",
      "0s - loss: 0.0300 - val_loss: 0.0348\n",
      "Epoch 47/50\n",
      "0s - loss: 0.0298 - val_loss: 0.0350\n",
      "Epoch 48/50\n",
      "0s - loss: 0.0298 - val_loss: 0.0349\n",
      "Epoch 49/50\n",
      "0s - loss: 0.0300 - val_loss: 0.0349\n",
      "Epoch 50/50\n",
      "0s - loss: 0.0299 - val_loss: 0.0348\n"
     ]
    }
   ],
   "source": [
    "# design network\n",
    "model = Sequential()\n",
    "model.add(LSTM(5, input_shape=(train_X.shape[1], train_X.shape[2])))\n",
    "model.add(Dense(1))\n",
    "model.compile(loss='mae', optimizer='adam')\n",
    "# fit network\n",
    "history = model.fit(train_X, train_y, epochs=50, batch_size=4, validation_data=(test_X, test_y), verbose=2, shuffle=False)\n",
    "# plot history\n"
   ]
  },
  {
   "cell_type": "code",
   "execution_count": 19,
   "metadata": {},
   "outputs": [
    {
     "data": {
      "image/png": "[encoded data removed]",
      "text/plain": [
       "<matplotlib.figure.Figure at 0x123d76f98>"
      ]
     },
     "metadata": {},
     "output_type": "display_data"
    }
   ],
   "source": [
    "plt.plot(history.history['loss'], label='train')\n",
    "plt.plot(history.history['val_loss'], label='test')\n",
    "plt.legend()\n",
    "plt.show()"
   ]
  },
  {
   "cell_type": "code",
   "execution_count": 20,
   "metadata": {},
   "outputs": [
    {
     "name": "stdout",
     "output_type": "stream",
     "text": [
      "Test RMSE: 93.244\n"
     ]
    }
   ],
   "source": [
    "# make a prediction\n",
    "yhat = model.predict(test_X)\n",
    "test_X = test_X.reshape((test_X.shape[0], test_X.shape[2]))\n",
    "# invert scaling for forecast\n",
    "inv_yhat = np.concatenate((yhat, test_X[:, 1:]), axis=1)\n",
    "inv_yhat = scaler.inverse_transform(inv_yhat)\n",
    "inv_yhat = inv_yhat[:,0]\n",
    "# invert scaling for actual\n",
    "test_y = test_y.reshape((len(test_y), 1))\n",
    "inv_y = np.concatenate((test_y, test_X[:, 1:]), axis=1)\n",
    "inv_y = scaler.inverse_transform(inv_y)\n",
    "inv_y = inv_y[:,0]\n",
    "# calculate RMSE\n",
    "rmse = np.sqrt(mean_squared_error(inv_y, inv_yhat))\n",
    "print('Test RMSE: %.3f' % rmse)"
   ]
  },
  {
   "cell_type": "code",
   "execution_count": 21,
   "metadata": {},
   "outputs": [
    {
     "data": {
      "text/plain": [
       "[<matplotlib.lines.Line2D at 0x1255cd400>]"
      ]
     },
     "execution_count": 21,
     "metadata": {},
     "output_type": "execute_result"
    }
   ],
   "source": [
    "plt.plot(inv_y)\n",
    "plt.plot(inv_yhat)"
   ]
  },
  {
   "cell_type": "code",
   "execution_count": 22,
   "metadata": {},
   "outputs": [
    {
     "data": {
      "image/png": "[encoded data removed]",
      "text/plain": [
       "<matplotlib.figure.Figure at 0x1255cd518>"
      ]
     },
     "metadata": {},
     "output_type": "display_data"
    }
   ],
   "source": [
    "plt.show()"
   ]
  },
  {
   "cell_type": "code",
   "execution_count": 23,
   "metadata": {
    "collapsed": true
   },
   "outputs": [],
   "source": [
    "inv_y = np.insert(inv_y,0,7000)"
   ]
  },
  {
   "cell_type": "code",
   "execution_count": 24,
   "metadata": {},
   "outputs": [
    {
     "data": {
      "image/png": "[encoded data removed]",
      "text/plain": [
       "<matplotlib.figure.Figure at 0x12529cbe0>"
      ]
     },
     "metadata": {},
     "output_type": "display_data"
    }
   ],
   "source": [
    "plt.plot(inv_y)\n",
    "plt.plot(inv_yhat)\n",
    "plt.show()"
   ]
  },
  {
   "cell_type": "code",
   "execution_count": 25,
   "metadata": {
    "collapsed": true
   },
   "outputs": [],
   "source": [
    "plt.show()"
   ]
  },
  {
   "cell_type": "code",
   "execution_count": null,
   "metadata": {
    "collapsed": true
   },
   "outputs": [],
   "source": []
  }
 ],
 "metadata": {
  "kernelspec": {
   "display_name": "Python 3",
   "language": "python",
   "name": "python3"
  },
  "language_info": {
   "codemirror_mode": {
    "name": "ipython",
    "version": 3
   },
   "file_extension": ".py",
   "mimetype": "text/x-python",
   "name": "python",
   "nbconvert_exporter": "python",
   "pygments_lexer": "ipython3",
   "version": "3.6.1"
  }
 },
 "nbformat": 4,
 "nbformat_minor": 2
}
